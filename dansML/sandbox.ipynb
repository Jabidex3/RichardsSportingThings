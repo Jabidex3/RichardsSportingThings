{
 "metadata": {
  "language_info": {
   "codemirror_mode": {
    "name": "ipython",
    "version": 3
   },
   "file_extension": ".py",
   "mimetype": "text/x-python",
   "name": "python",
   "nbconvert_exporter": "python",
   "pygments_lexer": "ipython3",
   "version": "3.9.0-final"
  },
  "orig_nbformat": 2,
  "kernelspec": {
   "name": "Python 3.9.0 64-bit",
   "display_name": "Python 3.9.0 64-bit",
   "metadata": {
    "interpreter": {
     "hash": "63fd5069d213b44bf678585dea6b12cceca9941eaf7f819626cde1f2670de90d"
    }
   }
  }
 },
 "nbformat": 4,
 "nbformat_minor": 2,
 "cells": [
  {
   "source": [
    "#imports\n",
    "import pandas as pd\n",
    "import numpy as np\n",
    "import seaborn as sns\n",
    "from sklearn.datasets import load_breast_cancer\n",
    "import matplotlib.pyplot as plt\n",
    "from sklearn.model_selection import train_test_split\n",
    "from sklearn.metrics import accuracy_score, confusion_matrix\n",
    "\n",
    "import re\n",
    "from sklearn.feature_extraction.text import TfidfVectorizer"
   ],
   "cell_type": "code",
   "metadata": {},
   "execution_count": 24,
   "outputs": []
  },
  {
   "cell_type": "code",
   "execution_count": 25,
   "metadata": {},
   "outputs": [
    {
     "output_type": "execute_result",
     "data": {
      "text/plain": [
       "                                            prodName  \\\n",
       "0                 P-TEX Ankle Brace With Stabilizers   \n",
       "1  Spalding King of the Beach USA Replica Outdoor...   \n",
       "2                 Wilson Graffiti Outdoor Volleyball   \n",
       "3              Tandem Round Volleyball Blocking Pads   \n",
       "4        ASICS Women's Gel-Rocket 9 Volleyball Shoes   \n",
       "\n",
       "                                       prodImage-src prodPrice       prodBadge  \n",
       "0  https://dks.scene7.com/is/image/dkscdn/17PTEUP...       NaN  DicksExclusive  \n",
       "1  https://dks.scene7.com/is/image/dkscdn/16SPLUS...   $24.99              NaN  \n",
       "2  https://dks.scene7.com/is/image/dkscdn/16WILUG...   $19.99              NaN  \n",
       "3  https://dks.scene7.com/is/image/dkscdn/17TANUR...   $49.99              NaN  \n",
       "4  https://dks.scene7.com/is/image/dkscdn/19ASIWG...       NaN             NaN  "
      ],
      "text/html": "<div>\n<style scoped>\n    .dataframe tbody tr th:only-of-type {\n        vertical-align: middle;\n    }\n\n    .dataframe tbody tr th {\n        vertical-align: top;\n    }\n\n    .dataframe thead th {\n        text-align: right;\n    }\n</style>\n<table border=\"1\" class=\"dataframe\">\n  <thead>\n    <tr style=\"text-align: right;\">\n      <th></th>\n      <th>prodName</th>\n      <th>prodImage-src</th>\n      <th>prodPrice</th>\n      <th>prodBadge</th>\n    </tr>\n  </thead>\n  <tbody>\n    <tr>\n      <th>0</th>\n      <td>P-TEX Ankle Brace With Stabilizers</td>\n      <td>https://dks.scene7.com/is/image/dkscdn/17PTEUP...</td>\n      <td>NaN</td>\n      <td>DicksExclusive</td>\n    </tr>\n    <tr>\n      <th>1</th>\n      <td>Spalding King of the Beach USA Replica Outdoor...</td>\n      <td>https://dks.scene7.com/is/image/dkscdn/16SPLUS...</td>\n      <td>$24.99</td>\n      <td>NaN</td>\n    </tr>\n    <tr>\n      <th>2</th>\n      <td>Wilson Graffiti Outdoor Volleyball</td>\n      <td>https://dks.scene7.com/is/image/dkscdn/16WILUG...</td>\n      <td>$19.99</td>\n      <td>NaN</td>\n    </tr>\n    <tr>\n      <th>3</th>\n      <td>Tandem Round Volleyball Blocking Pads</td>\n      <td>https://dks.scene7.com/is/image/dkscdn/17TANUR...</td>\n      <td>$49.99</td>\n      <td>NaN</td>\n    </tr>\n    <tr>\n      <th>4</th>\n      <td>ASICS Women's Gel-Rocket 9 Volleyball Shoes</td>\n      <td>https://dks.scene7.com/is/image/dkscdn/19ASIWG...</td>\n      <td>NaN</td>\n      <td>NaN</td>\n    </tr>\n  </tbody>\n</table>\n</div>"
     },
     "metadata": {},
     "execution_count": 25
    }
   ],
   "source": [
    "df_vball = pd.read_csv('./richards_vball_products.csv')\n",
    "df_vball.head()"
   ]
  },
  {
   "cell_type": "code",
   "execution_count": 26,
   "metadata": {},
   "outputs": [],
   "source": [
    "df = df_vball.iloc[:,[0,2,3]]"
   ]
  },
  {
   "cell_type": "code",
   "execution_count": 27,
   "metadata": {},
   "outputs": [
    {
     "output_type": "execute_result",
     "data": {
      "text/plain": [
       "                                            prodName prodPrice       prodBadge\n",
       "0                 P-TEX Ankle Brace With Stabilizers       NaN  DicksExclusive\n",
       "1  Spalding King of the Beach USA Replica Outdoor...   $24.99              NaN\n",
       "2                 Wilson Graffiti Outdoor Volleyball   $19.99              NaN\n",
       "3              Tandem Round Volleyball Blocking Pads   $49.99              NaN\n",
       "4        ASICS Women's Gel-Rocket 9 Volleyball Shoes       NaN             NaN"
      ],
      "text/html": "<div>\n<style scoped>\n    .dataframe tbody tr th:only-of-type {\n        vertical-align: middle;\n    }\n\n    .dataframe tbody tr th {\n        vertical-align: top;\n    }\n\n    .dataframe thead th {\n        text-align: right;\n    }\n</style>\n<table border=\"1\" class=\"dataframe\">\n  <thead>\n    <tr style=\"text-align: right;\">\n      <th></th>\n      <th>prodName</th>\n      <th>prodPrice</th>\n      <th>prodBadge</th>\n    </tr>\n  </thead>\n  <tbody>\n    <tr>\n      <th>0</th>\n      <td>P-TEX Ankle Brace With Stabilizers</td>\n      <td>NaN</td>\n      <td>DicksExclusive</td>\n    </tr>\n    <tr>\n      <th>1</th>\n      <td>Spalding King of the Beach USA Replica Outdoor...</td>\n      <td>$24.99</td>\n      <td>NaN</td>\n    </tr>\n    <tr>\n      <th>2</th>\n      <td>Wilson Graffiti Outdoor Volleyball</td>\n      <td>$19.99</td>\n      <td>NaN</td>\n    </tr>\n    <tr>\n      <th>3</th>\n      <td>Tandem Round Volleyball Blocking Pads</td>\n      <td>$49.99</td>\n      <td>NaN</td>\n    </tr>\n    <tr>\n      <th>4</th>\n      <td>ASICS Women's Gel-Rocket 9 Volleyball Shoes</td>\n      <td>NaN</td>\n      <td>NaN</td>\n    </tr>\n  </tbody>\n</table>\n</div>"
     },
     "metadata": {},
     "execution_count": 27
    }
   ],
   "source": [
    "df.head()"
   ]
  },
  {
   "cell_type": "code",
   "execution_count": 28,
   "metadata": {},
   "outputs": [
    {
     "output_type": "execute_result",
     "data": {
      "text/plain": [
       "0                     P-TEX Ankle Brace With Stabilizers\n",
       "1      Spalding King of the Beach USA Replica Outdoor...\n",
       "2                     Wilson Graffiti Outdoor Volleyball\n",
       "3                  Tandem Round Volleyball Blocking Pads\n",
       "4            ASICS Women's Gel-Rocket 9 Volleyball Shoes\n",
       "                             ...                        \n",
       "371    Nike Women's Dri-Fit Legend Classic Volleyball...\n",
       "372                       Tandem Volleyball Net Extender\n",
       "373                           Tandem Volleyball Headband\n",
       "374              Adidas Women's HiLo Short Sleeve Jersey\n",
       "375           Mizuno Men's Volleyball Attack T-Shirt 2.0\n",
       "Name: prodName, Length: 376, dtype: object"
      ]
     },
     "metadata": {},
     "execution_count": 28
    }
   ],
   "source": [
    "prodNames = df.iloc[:,0]\n",
    "prodNames"
   ]
  },
  {
   "cell_type": "code",
   "execution_count": 29,
   "metadata": {},
   "outputs": [],
   "source": [
    "# Write a function for cleaning strings and returning an array of ngrams\n",
    "def ngrams_analyzer(string):\n",
    "    string = re.sub(r'[,-./]', r'', string)\n",
    "    ngrams = zip(*[string[i:] for i in range(5)])  # N-Gram length is 5\n",
    "    return [''.join(ngram) for ngram in ngrams]"
   ]
  },
  {
   "cell_type": "code",
   "execution_count": 30,
   "metadata": {},
   "outputs": [],
   "source": [
    "# Construct your vectorizer for building the TF-IDF matrix\n",
    "vectorizer = TfidfVectorizer(analyzer=ngrams_analyzer)\n",
    "\n",
    "# Build the matrix\n",
    "tfidf_matrix = vectorizer.fit_transform(prodNames)"
   ]
  },
  {
   "cell_type": "code",
   "execution_count": 31,
   "metadata": {},
   "outputs": [],
   "source": [
    "# Import IGN's awesome_cossim_topn module\n",
    "from sparse_dot_topn import awesome_cossim_topn"
   ]
  },
  {
   "cell_type": "code",
   "execution_count": 32,
   "metadata": {},
   "outputs": [],
   "source": [
    "# The arguments for awesome_cossim_topn are as follows:\n",
    "### 1. Our TF-IDF matrix\n",
    "### 2. Our TF-IDF matrix transposed (allowing us to build a pairwise cosine matrix)\n",
    "### 3. A top_n filter, which allows us to filter the number of matches returned, which isn't useful for our purposes\n",
    "### 4. This is our similarity threshold. Only values over 0.8 will be returned\n",
    "cosine_matrix = awesome_cossim_topn(\n",
    "  tfidf_matrix,\n",
    "  tfidf_matrix.transpose(),\n",
    "  prodNames.size,\n",
    "  0.3\n",
    ")"
   ]
  },
  {
   "cell_type": "code",
   "execution_count": 33,
   "metadata": {},
   "outputs": [],
   "source": [
    "# Build a coordinate matrix from a cosine matrix\n",
    "coo_matrix = cosine_matrix.tocoo()"
   ]
  },
  {
   "cell_type": "code",
   "execution_count": 34,
   "metadata": {},
   "outputs": [],
   "source": [
    "# Instaniate our lookup hash table\n",
    "group_lookup = {}\n",
    "\n",
    "def find_group(row, col):\n",
    "    # If either the row or the col string have already been given\n",
    "    # a group, return that group. Otherwise return none\n",
    "    if row in group_lookup:\n",
    "        return group_lookup[row]\n",
    "    elif col in group_lookup:\n",
    "        return group_lookup[col]\n",
    "    else:\n",
    "        return None"
   ]
  },
  {
   "cell_type": "code",
   "execution_count": 35,
   "metadata": {},
   "outputs": [],
   "source": [
    "def add_vals_to_lookup(group, row, col):\n",
    "    # Once we know the group name, set it as the value\n",
    "    # for both strings in the group_lookup\n",
    "    group_lookup[row] = group\n",
    "    group_lookup[col] = group\n",
    "\n",
    "\n",
    "def add_pair_to_lookup(row, col):\n",
    "    # in this function we'll add both the row and the col to the lookup\n",
    "    group = find_group(row, col)  # first, see if one has already been added\n",
    "    if group is not None:\n",
    "        # if we already know the group, make sure both row and col are in lookup\n",
    "        add_vals_to_lookup(group, row, col)\n",
    "    else:\n",
    "        # if we get here, we need to add a new group.\n",
    "        # The name is arbitrary, so just make it the row\n",
    "        add_vals_to_lookup(row, row, col)"
   ]
  },
  {
   "cell_type": "code",
   "execution_count": 36,
   "metadata": {},
   "outputs": [],
   "source": [
    "# for each row and column in coo_matrix\n",
    "# if they're not the same string add them to the group lookup\n",
    "for row, col in zip(coo_matrix.row, coo_matrix.col):\n",
    "    if row != col:\n",
    "        # Note that what is passed to add_pair_to_lookup is the string at each index\n",
    "        # (eg: the names in the legal_name column) not the indices themselves\n",
    "        add_pair_to_lookup(prodNames[row], prodNames[col])"
   ]
  },
  {
   "cell_type": "code",
   "execution_count": 37,
   "metadata": {},
   "outputs": [],
   "source": [
    "df['Group'] = df['prodName'].map(group_lookup).fillna(df['prodName'])"
   ]
  },
  {
   "cell_type": "code",
   "execution_count": 38,
   "metadata": {},
   "outputs": [
    {
     "output_type": "execute_result",
     "data": {
      "text/plain": [
       "                                            prodName prodPrice  \\\n",
       "0                 P-TEX Ankle Brace With Stabilizers       NaN   \n",
       "1  Spalding King of the Beach USA Replica Outdoor...   $24.99    \n",
       "2                 Wilson Graffiti Outdoor Volleyball   $19.99    \n",
       "3              Tandem Round Volleyball Blocking Pads   $49.99    \n",
       "4        ASICS Women's Gel-Rocket 9 Volleyball Shoes       NaN   \n",
       "\n",
       "        prodBadge                                              Group  \n",
       "0  DicksExclusive           Shock Doctor Ultra Wrap Lace Ankle Brace  \n",
       "1             NaN  Spalding King of the Beach USA Replica Outdoor...  \n",
       "2             NaN                 Wilson Graffiti Outdoor Volleyball  \n",
       "3             NaN              Tandem Round Volleyball Blocking Pads  \n",
       "4             NaN       Mizuno Women's Wave Voltage Volleyball Shoes  "
      ],
      "text/html": "<div>\n<style scoped>\n    .dataframe tbody tr th:only-of-type {\n        vertical-align: middle;\n    }\n\n    .dataframe tbody tr th {\n        vertical-align: top;\n    }\n\n    .dataframe thead th {\n        text-align: right;\n    }\n</style>\n<table border=\"1\" class=\"dataframe\">\n  <thead>\n    <tr style=\"text-align: right;\">\n      <th></th>\n      <th>prodName</th>\n      <th>prodPrice</th>\n      <th>prodBadge</th>\n      <th>Group</th>\n    </tr>\n  </thead>\n  <tbody>\n    <tr>\n      <th>0</th>\n      <td>P-TEX Ankle Brace With Stabilizers</td>\n      <td>NaN</td>\n      <td>DicksExclusive</td>\n      <td>Shock Doctor Ultra Wrap Lace Ankle Brace</td>\n    </tr>\n    <tr>\n      <th>1</th>\n      <td>Spalding King of the Beach USA Replica Outdoor...</td>\n      <td>$24.99</td>\n      <td>NaN</td>\n      <td>Spalding King of the Beach USA Replica Outdoor...</td>\n    </tr>\n    <tr>\n      <th>2</th>\n      <td>Wilson Graffiti Outdoor Volleyball</td>\n      <td>$19.99</td>\n      <td>NaN</td>\n      <td>Wilson Graffiti Outdoor Volleyball</td>\n    </tr>\n    <tr>\n      <th>3</th>\n      <td>Tandem Round Volleyball Blocking Pads</td>\n      <td>$49.99</td>\n      <td>NaN</td>\n      <td>Tandem Round Volleyball Blocking Pads</td>\n    </tr>\n    <tr>\n      <th>4</th>\n      <td>ASICS Women's Gel-Rocket 9 Volleyball Shoes</td>\n      <td>NaN</td>\n      <td>NaN</td>\n      <td>Mizuno Women's Wave Voltage Volleyball Shoes</td>\n    </tr>\n  </tbody>\n</table>\n</div>"
     },
     "metadata": {},
     "execution_count": 38
    }
   ],
   "source": [
    "df.head()"
   ]
  },
  {
   "source": [
    "df['Group'].unique()"
   ],
   "cell_type": "code",
   "metadata": {},
   "execution_count": 39,
   "outputs": [
    {
     "output_type": "execute_result",
     "data": {
      "text/plain": [
       "array(['Shock Doctor Ultra Wrap Lace Ankle Brace',\n",
       "       'Spalding King of the Beach USA Replica Outdoor Volleyball',\n",
       "       'Wilson Graffiti Outdoor Volleyball',\n",
       "       'Tandem Round Volleyball Blocking Pads',\n",
       "       \"Mizuno Women's Wave Voltage Volleyball Shoes\",\n",
       "       'Champion Volleyball Trainer Set',\n",
       "       \"Nike Women's React Hyperset Volleyball Shoes\",\n",
       "       'Tandem Collapsible Spike Trainer',\n",
       "       'DSG Solana Indoor/Outdoor Volleyball',\n",
       "       \"DICK'S Sporting Goods Mesh Ball Bag\", 'Tandem Volleyball Pal',\n",
       "       \"Nike Women's Swoosh Logo Printed Sports Bra\",\n",
       "       'Tachikara SV-5WM Indoor Volleyball',\n",
       "       'Mizuno Core Flat Front Vortex Hybrid 3.5\" Volleyball Shorts',\n",
       "       'Wilson Pro Tour Indoor Volleyball',\n",
       "       'Wilson K1 Silver Indoor Volleyball', \"Nike Girls' Fury Headband\",\n",
       "       'Tandem Volleyball Target Challenger',\n",
       "       'Tandem Volleyball Small Reaction Ball',\n",
       "       'Wilson AVP Special Edition II Outdoor Volleyball',\n",
       "       'Tandem Volleyball Ponytail Pack',\n",
       "       'Porter Powr Volleyball Transport System',\n",
       "       'NEOSPORT XSpan Hi-Top 2mm Neoprene Socks',\n",
       "       'adidas Alliance II Sack Pack',\n",
       "       'Wilson Hawaii AVP Malibu Outdoor Volleyball with Disc',\n",
       "       'Tandem Volleyball Finger Supports',\n",
       "       'Mikasa VQ2000 Plus NFHS Competition Indoor Volleyball',\n",
       "       'Tandem Triple Net Storage Rack', 'Nike Essential Ball Pump',\n",
       "       'Tandem Volleyball Elbow Pads',\n",
       "       'Mikasa High Performance Indoor Volleyball',\n",
       "       'Nike Dri-FIT 3.0 Head Tie', 'Tachikara Zigzag Outdoor Volleyball',\n",
       "       \"Under Armour Women's Highlight Ace 2.0 Volleyball Shoes\",\n",
       "       'Molten Super Touch Indoor Volleyball',\n",
       "       'Baden SkilCoach HeavySetter Training Volleyball',\n",
       "       'Tandem Straighter Way Sleeves', 'Wilson Encore Indoor Volleyball',\n",
       "       'Harrow Elite Sports Backpack',\n",
       "       'Tandem Volleyball Set Rite Training Aid',\n",
       "       'Mikasa Official NVL-VX Replica Beach Volleyball',\n",
       "       'Wilson NCAA Official Beach Championship Game Volleyball',\n",
       "       'Champion Official Size Rubber Volleyball Set',\n",
       "       'Mizuno LR6 Volleyball Knee Pads',\n",
       "       'Molten L2 Replica Composite Indoor Volleyball',\n",
       "       'Tandem Volleyball Quad Blocker Trainer',\n",
       "       'Mizuno Women\\'s Victory 3.5\" Volleyball Shorts',\n",
       "       \"Nike Women's Pro 3'' Shorts\",\n",
       "       'Wilson Soft Play Outdoor Volleyball',\n",
       "       \"Nike Pro Girls' 4'' Shorts\",\n",
       "       'Champion Super Squeeze Volleyball Set',\n",
       "       \"ASICS Women's 4” Compression Shorts\",\n",
       "       'Tandem Volleyball Block Blaster',\n",
       "       'Baden Beach Elite Sand Volleyball',\n",
       "       'Tandem Spot Target Training Kit',\n",
       "       'Molten NCAA FLISTATEC Competition Volleyball',\n",
       "       'Tandem Volleyball Cinch Sack', 'Tandem Volleyball Bungee Blocker',\n",
       "       'Baden Lexum Composite Light Volleyball',\n",
       "       'Zamst A2 DX Ankle Brace', 'Tandem Volleyball Clutch Pouch',\n",
       "       \"Nike Women's Zoom HyperAce 2 Volleyball Shoes\",\n",
       "       'Molten Elite Beach Volleyball',\n",
       "       'Baden Perfection Elite Series Indoor Volleyball',\n",
       "       \"Mizuno Women's Cyclone Speed 2 Volleyball Shoes\",\n",
       "       'Mikasa VUL500 Youth Starter Lightweight Volleyball',\n",
       "       'Lifetime 3 Pack Inflation Needles', 'Baden Ball Bag',\n",
       "       'Nike Hyperspike 18P Indoor Volleyball',\n",
       "       'Champion Rhino Skin Volleyball Set',\n",
       "       'Baden Lexum Microfiber Indoor Volleyball',\n",
       "       'Tandem Locking Ball Cage', 'Tandem Volleyball Official Flip Coin',\n",
       "       'Mikasa BCSPSH Classic Volleyball Cart',\n",
       "       'Tandem Deluxe Score Flipper with Handle',\n",
       "       'Tandem Volleyball Dual Rotation Locator',\n",
       "       'Tandem Portable Volleyball Equipment Carrier',\n",
       "       'ASICS Junior Ace Low Profile Volleyball Knee Pads',\n",
       "       'Asics Adult Gel Conform II Volleyball Knee Pads',\n",
       "       'Tachikara Porta-Score Scoreboard', \"Tandem Elite Official's Kit\",\n",
       "       'Copper Fit Pro Series Ankle Sleeve',\n",
       "       'Porter Free Standing Volleyball Judge Stand',\n",
       "       'Tachikara Wallyball Concrete Net Anchors', 'Baden Game Day Bag',\n",
       "       'Tandem Deluxe Linesman Flags', 'Mizuno Volleyball Arm Sleeves',\n",
       "       'Franklin Inflatable Ball Maintenance Kit',\n",
       "       'Tachikara PV-NET Professional Volleyball Net',\n",
       "       'Bauerfeind Sports Ankle Support',\n",
       "       'Mikasa Hammock Style Volleyball Cart',\n",
       "       'Wilson Junior Reversible Premium Volleyball Knee Pads',\n",
       "       'Mizuno Women\\'s 4\" Vortex Volleyball Shorts',\n",
       "       'CoachDeck Instructional Volleyball Drill Cards',\n",
       "       'Champion Portable Ball Locker', 'Champion VN100 Volleyball Net',\n",
       "       'Tandem 3-Tier Ball Rack', 'McDavid 195 Ankle Brace w/ Straps',\n",
       "       'Pro-Tec Achilles Tendon Support',\n",
       "       \"Mizuno Women's Align Long Volleyball Pants\",\n",
       "       'Tandem Volleyball Agility Ladder',\n",
       "       'Spalding Jump Strength Training Aid',\n",
       "       'Classic Sport Adult Knee Pads',\n",
       "       'Tachikara BC-HAM Volleyball Cart', 'Tandem Colossal Ball Cart',\n",
       "       'Mizuno Atlanta Cover Up 3.5\" Volleyball Shorts',\n",
       "       'Active Ankle PowerLacer Brace', 'Tandem Skids Palm Protectors',\n",
       "       'Tandem Precise Height Volleyball Net Stick',\n",
       "       'Tandem Joust Beach Skins Volleyball Footwear',\n",
       "       'Champion Folding Volleyball Cart',\n",
       "       'Franklin Perfect Pump & Pressure Gauge',\n",
       "       \"Mizuno Women's Elite 9 Dynamic Cover Up Volleyball Shorts\",\n",
       "       'Bestway PowerGrip Air Pump',\n",
       "       'Tandem Volleyball Portable Scoreboard and Possession Arrows',\n",
       "       'Tachikara Game Plan Dry Erase Clipboard',\n",
       "       'Fox 40 Classic Fox Whistle Lanyard',\n",
       "       \"Tandem Volleyball Setter's Towel\",\n",
       "       'Porter Boundary Markers with Net Antenna',\n",
       "       'Tandem Volleyball Cable Padding Set - 4 Pack',\n",
       "       \"Mizuno Women's Mid Beach Volleyball Tights\",\n",
       "       'Porter Sidewinder Volleyball Net Storage System',\n",
       "       'Tachikara CV-NET Regulation Net',\n",
       "       \"adidas Women's Hilo Long Sleeve Solid Long Volleyball Jersey\",\n",
       "       'Tandem Net Setter with Carrying Pouch',\n",
       "       \"Under Armour Women's Breathelux Marble Sports Bra\",\n",
       "       'Shock Doctor Adult Nano 3D Convertible Slim Fit Mouthguard',\n",
       "       'Mizuno Retro Crew Volleyball Sweatshirt',\n",
       "       \"Glamorise Women's Underwire Sports Bra\",\n",
       "       'Schutt Football Helmet Air Pump',\n",
       "       \"Champion Women's Script Logo Absolute Workout Sports Bra\",\n",
       "       'DonJoy Performance Bionic Ankle Brace',\n",
       "       \"Roxy Women's Flying Kisses Medium Support Sports Bra\",\n",
       "       'Champion Economy Electric Inflating Pump',\n",
       "       'Mikasa M80 Electric Air Inflator', 'Tandem Rope Court Line',\n",
       "       'Champion Table Model Pump',\n",
       "       'Tandem Beach Volleyball Court Line Sand Anchor Discs',\n",
       "       'Porter Quality Volleyball Net',\n",
       "       'Under Armour Dual-Action Ball Pump',\n",
       "       'Tandem Covered Net Tightener',\n",
       "       \"Mizuno Women's April Ross Vision Volleyball Graphic Tank Top\",\n",
       "       'Active Ankle AS1 Pro Lace-Up Ankle Brace with Straps',\n",
       "       \"Mizuno Boys' Comp Workout Shorts\",\n",
       "       \"Mizuno Men's Comp Short Sleeve Polo\",\n",
       "       'Tandem Volleyball/Basketball Ultimate Ball Rack',\n",
       "       'Tandem Volleyball Net Extender'], dtype=object)"
      ]
     },
     "metadata": {},
     "execution_count": 39
    }
   ]
  },
  {
   "cell_type": "code",
   "execution_count": 40,
   "metadata": {},
   "outputs": [],
   "source": [
    "df.to_csv('./groups_threshold_10percent.csv')"
   ]
  },
  {
   "cell_type": "code",
   "execution_count": null,
   "metadata": {},
   "outputs": [],
   "source": []
  }
 ]
}